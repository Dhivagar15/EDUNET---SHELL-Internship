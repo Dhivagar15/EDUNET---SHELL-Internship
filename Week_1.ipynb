{
  "nbformat": 4,
  "nbformat_minor": 0,
  "metadata": {
    "colab": {
      "provenance": []
    },
    "kernelspec": {
      "name": "python3",
      "display_name": "Python 3"
    },
    "language_info": {
      "name": "python"
    }
  },
  "cells": [
    {
      "cell_type": "code",
      "execution_count": 4,
      "metadata": {
        "colab": {
          "base_uri": "https://localhost:8080/"
        },
        "id": "77cPmftGW1Ow",
        "outputId": "d99bf3cf-8ffa-4342-adcf-fe0299b41a67"
      },
      "outputs": [
        {
          "output_type": "stream",
          "name": "stdout",
          "text": [
            "Dataset loaded successfully!\n",
            "\n",
            "--- Dataset Information (.info()) ---\n",
            "<class 'pandas.core.frame.DataFrame'>\n",
            "RangeIndex: 1917 entries, 0 to 1916\n",
            "Data columns (total 12 columns):\n",
            " #   Column                        Non-Null Count  Dtype  \n",
            "---  ------                        --------------  -----  \n",
            " 0   Region                        1917 non-null   object \n",
            " 1   WRI                           1917 non-null   float64\n",
            " 2   Exposure                      1917 non-null   float64\n",
            " 3   Vulnerability                 1917 non-null   float64\n",
            " 4   Susceptibility                1917 non-null   float64\n",
            " 5   Lack of Coping Capabilities   1917 non-null   float64\n",
            " 6    Lack of Adaptive Capacities  1916 non-null   float64\n",
            " 7   Year                          1917 non-null   int64  \n",
            " 8   Exposure Category             1917 non-null   object \n",
            " 9   WRI Category                  1916 non-null   object \n",
            " 10  Vulnerability Category        1913 non-null   object \n",
            " 11  Susceptibility Category       1917 non-null   object \n",
            "dtypes: float64(6), int64(1), object(5)\n",
            "memory usage: 179.8+ KB\n",
            "\n",
            "--- Descriptive Statistics (.describe()) ---\n",
            "               WRI     Exposure  Vulnerability  Susceptibility  \\\n",
            "count  1917.000000  1917.000000    1917.000000     1917.000000   \n",
            "mean      7.551763    15.388336      48.075759       30.739431   \n",
            "std       5.553257    10.240135      13.835666       15.667030   \n",
            "min       0.020000     0.050000      14.310000        8.260000   \n",
            "25%       3.740000    10.160000      37.040000       17.790000   \n",
            "50%       6.520000    12.760000      47.100000       25.400000   \n",
            "75%       9.400000    16.450000      60.060000       42.640000   \n",
            "max      56.710000    99.880000      76.470000       70.830000   \n",
            "\n",
            "       Lack of Coping Capabilities   Lack of Adaptive Capacities         Year  \n",
            "count                  1917.000000                   1916.000000  1917.000000  \n",
            "mean                     70.438289                     43.090511  2016.049557  \n",
            "std                      15.038854                     13.551156     3.182045  \n",
            "min                      31.590000                     11.160000  2011.000000  \n",
            "25%                      59.330000                     33.192500  2013.000000  \n",
            "50%                      74.230000                     43.080000  2016.000000  \n",
            "75%                      83.000000                     53.065000  2019.000000  \n",
            "max                      94.360000                     76.110000  2021.000000  \n",
            "\n",
            "--- Check for Missing Values (.isnull().sum()) ---\n",
            "Region                          0\n",
            "WRI                             0\n",
            "Exposure                        0\n",
            "Vulnerability                   0\n",
            "Susceptibility                  0\n",
            "Lack of Coping Capabilities     0\n",
            " Lack of Adaptive Capacities    1\n",
            "Year                            0\n",
            "Exposure Category               0\n",
            "WRI Category                    1\n",
            "Vulnerability Category          4\n",
            "Susceptibility Category         0\n",
            "dtype: int64\n"
          ]
        }
      ],
      "source": [
        "# 1. Import necessary libraries\n",
        "import pandas as pd\n",
        "\n",
        "# 2. Load the dataset\n",
        "# The file path had a syntax error due to the backslashes.\n",
        "# This is corrected by using a raw string (r'...') or by using forward slashes.\n",
        "# We will use the raw string method for clarity with the original path.\n",
        "file_path = '/content/world_risk_index.csv'\n",
        "\n",
        "try:\n",
        "    df = pd.read_csv(file_path)\n",
        "    print(\"Dataset loaded successfully!\")\n",
        "except FileNotFoundError:\n",
        "    print(f\"Error: The file '{file_path}' was not found.\")\n",
        "    print(\"Please check the filename and file path.\")\n",
        "    df = None  # Assign None to prevent errors in subsequent steps\n",
        "\n",
        "# --- Proceed with data exploration only if the dataset was loaded ---\n",
        "if df is not None:\n",
        "    # 3. Explore the dataset\n",
        "    print(\"\\n--- Dataset Information (.info()) ---\")\n",
        "    df.info()\n",
        "\n",
        "    print(\"\\n--- Descriptive Statistics (.describe()) ---\")\n",
        "    print(df.describe())\n",
        "\n",
        "    print(\"\\n--- Check for Missing Values (.isnull().sum()) ---\")\n",
        "    print(df.isnull().sum())"
      ]
    }
  ]
}